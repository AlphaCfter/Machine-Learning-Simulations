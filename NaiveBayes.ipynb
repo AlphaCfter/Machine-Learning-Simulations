{
 "cells": [
  {
   "cell_type": "code",
   "execution_count": null,
   "id": "57f1ca8d",
   "metadata": {},
   "outputs": [],
   "source": [
    "# ----------------------------- Extraction ------------------------------------------------ #"
   ]
  },
  {
   "cell_type": "code",
   "execution_count": null,
   "id": "e180dff1-cdb8-4dd5-a945-316f2cdb3262",
   "metadata": {},
   "outputs": [],
   "source": [
    "import praw\n",
    "\n",
    "import json\n",
    "import os\n",
    "import random\n",
    "\n",
    "from dotenv import load_dotenv"
   ]
  },
  {
   "cell_type": "code",
   "execution_count": 133,
   "id": "63c2ab95",
   "metadata": {},
   "outputs": [],
   "source": [
    "load_dotenv()\n",
    "\n",
    "client_id = os.getenv('client_id')\n",
    "client_secret = os.getenv('client_secret')\n"
   ]
  },
  {
   "cell_type": "code",
   "execution_count": 134,
   "id": "169a4ca7-0084-4aa3-af5e-7a1457262422",
   "metadata": {},
   "outputs": [],
   "source": [
    "reddit = praw.Reddit(\n",
    "    client_id=client_id,\n",
    "    client_secret=client_secret,\n",
    "    user_agent='dataset_collector'\n",
    ")"
   ]
  },
  {
   "cell_type": "code",
   "execution_count": 135,
   "id": "8288f6e2-f66c-4372-bbfb-58a661ed719a",
   "metadata": {},
   "outputs": [],
   "source": [
    "subreddits = {\n",
    "    'Politics': ['politics', 'PoliticalDiscussion'],\n",
    "    'Sport': ['sports', 'soccer', 'nba', 'nfl'],\n",
    "    'Technology': ['technology', 'technews'],\n",
    "    'Entertainment': ['movies', 'television', 'entertainment'],\n",
    "    'Business': ['business', 'economics', 'finance']\n",
    "}"
   ]
  },
  {
   "cell_type": "code",
   "execution_count": 136,
   "id": "e13f7f72-5bcd-4030-988f-c8140bb50dce",
   "metadata": {},
   "outputs": [
    {
     "name": "stdout",
     "output_type": "stream",
     "text": [
      "Collected 2949 documents.\n",
      "Dataset saved in json\n"
     ]
    }
   ],
   "source": [
    "dataset = []\n",
    "\n",
    "for category, subs in subreddits.items():\n",
    "    for sub in subs:\n",
    "        for post in reddit.subreddit(sub).hot(limit=1000):  \n",
    "            if not post.stickied and post.selftext.strip():\n",
    "                dataset.append({\n",
    "                    'category': category,\n",
    "                    'title': post.title,\n",
    "                    'text': post.selftext\n",
    "                })\n",
    "\n",
    "print(f\"Collected {len(dataset)} documents.\")\n",
    "\n",
    "with open('reddit_dataset.json', 'w', encoding='utf-8') as f:\n",
    "    json.dump(dataset, f, ensure_ascii=False, indent=4)\n",
    "print(\"Dataset saved in json\")"
   ]
  },
  {
   "cell_type": "code",
   "execution_count": null,
   "id": "90c69a59",
   "metadata": {},
   "outputs": [],
   "source": [
    "# ----------------------------- Extraction ------------------------------------------------ #"
   ]
  },
  {
   "cell_type": "code",
   "execution_count": null,
   "id": "822bda02",
   "metadata": {},
   "outputs": [],
   "source": [
    "# ----------------------------- Training ---------------------------------------------------#"
   ]
  },
  {
   "cell_type": "code",
   "execution_count": null,
   "id": "40858ab6",
   "metadata": {},
   "outputs": [],
   "source": [
    "import matplotlib.pyplot as plt\n",
    "from sklearn.feature_extraction.text import TfidfVectorizer\n",
    "from sklearn.naive_bayes import MultinomialNB\n",
    "from sklearn.model_selection import train_test_split\n",
    "from sklearn.metrics import classification_report\n",
    "from sklearn.metrics import classification_report, accuracy_score"
   ]
  },
  {
   "cell_type": "code",
   "execution_count": 137,
   "id": "a2ef9669",
   "metadata": {},
   "outputs": [],
   "source": [
    "with open('reddit_dataset.json', 'r', encoding='utf-8') as f:\n",
    "    dataset = json.load(f)\n",
    "\n",
    "random.shuffle(dataset)\n"
   ]
  },
  {
   "cell_type": "code",
   "execution_count": 138,
   "id": "7c734540",
   "metadata": {},
   "outputs": [],
   "source": [
    "texts = [item['title'] + ' ' + item['text'] for item in dataset]\n",
    "labels = [item['category'] for item in dataset]"
   ]
  },
  {
   "cell_type": "code",
   "execution_count": 139,
   "id": "6dc7d69c",
   "metadata": {},
   "outputs": [],
   "source": [
    "vectorizer = TfidfVectorizer(stop_words='english', max_features=5000)\n",
    "X = vectorizer.fit_transform(texts)\n"
   ]
  },
  {
   "cell_type": "code",
   "execution_count": 140,
   "id": "9243fd94",
   "metadata": {},
   "outputs": [],
   "source": [
    "ratios = [0.9,0.8,0.7,0.6,0.5,0.4,0.3,0.2,0.1]\n",
    "accuracies = []\n"
   ]
  },
  {
   "cell_type": "code",
   "execution_count": 141,
   "id": "51d02285",
   "metadata": {},
   "outputs": [
    {
     "name": "stdout",
     "output_type": "stream",
     "text": [
      "\n",
      "--- Training and Testing Split: 90% Train and 9% Test ---\n",
      "Accuracy: 95.25%\n",
      "               precision    recall  f1-score   support\n",
      "\n",
      "     Business      1.000     0.741     0.851        27\n",
      "Entertainment      0.905     0.990     0.945        96\n",
      "     Politics      0.958     1.000     0.979        92\n",
      "        Sport      1.000     0.925     0.961        80\n",
      "\n",
      "     accuracy                          0.953       295\n",
      "    macro avg      0.966     0.914     0.934       295\n",
      " weighted avg      0.956     0.953     0.951       295\n",
      "\n",
      "\n",
      "--- Training and Testing Split: 80% Train and 19% Test ---\n",
      "Accuracy: 92.71%\n",
      "               precision    recall  f1-score   support\n",
      "\n",
      "     Business      1.000     0.642     0.782        81\n",
      "Entertainment      0.859     0.983     0.917       180\n",
      "     Politics      0.946     1.000     0.972       192\n",
      "        Sport      0.977     0.920     0.947       137\n",
      "\n",
      "     accuracy                          0.927       590\n",
      "    macro avg      0.945     0.886     0.905       590\n",
      " weighted avg      0.934     0.927     0.923       590\n",
      "\n",
      "\n",
      "--- Training and Testing Split: 70% Train and 30% Test ---\n",
      "Accuracy: 93.79%\n",
      "               precision    recall  f1-score   support\n",
      "\n",
      "     Business      1.000     0.663     0.798        98\n",
      "Entertainment      0.886     0.982     0.932       278\n",
      "     Politics      0.948     1.000     0.973       293\n",
      "        Sport      0.980     0.921     0.950       216\n",
      "\n",
      "     accuracy                          0.938       885\n",
      "    macro avg      0.954     0.892     0.913       885\n",
      " weighted avg      0.942     0.938     0.935       885\n",
      "\n",
      "\n",
      "--- Training and Testing Split: 60% Train and 40% Test ---\n",
      "Accuracy: 92.71%\n",
      "               precision    recall  f1-score   support\n",
      "\n",
      "     Business      1.000     0.597     0.748       134\n",
      "Entertainment      0.867     0.984     0.922       379\n",
      "     Politics      0.942     1.000     0.970       388\n",
      "        Sport      0.981     0.907     0.942       279\n",
      "\n",
      "     accuracy                          0.927      1180\n",
      "    macro avg      0.947     0.872     0.896      1180\n",
      " weighted avg      0.934     0.927     0.923      1180\n",
      "\n",
      "\n",
      "--- Training and Testing Split: 50% Train and 50% Test ---\n",
      "Accuracy: 92.14%\n",
      "               precision    recall  f1-score   support\n",
      "\n",
      "     Business      1.000     0.550     0.709       171\n",
      "Entertainment      0.860     0.985     0.918       474\n",
      "     Politics      0.931     0.996     0.962       488\n",
      "        Sport      0.987     0.912     0.948       342\n",
      "\n",
      "     accuracy                          0.921      1475\n",
      "    macro avg      0.945     0.861     0.885      1475\n",
      " weighted avg      0.929     0.921     0.916      1475\n",
      "\n",
      "\n",
      "--- Training and Testing Split: 40% Train and 60% Test ---\n",
      "Accuracy: 91.81%\n",
      "               precision    recall  f1-score   support\n",
      "\n",
      "     Business      1.000     0.498     0.664       203\n",
      "Entertainment      0.860     0.982     0.917       570\n",
      "     Politics      0.922     0.998     0.959       590\n",
      "        Sport      0.989     0.921     0.954       407\n",
      "\n",
      "     accuracy                          0.918      1770\n",
      "    macro avg      0.943     0.850     0.874      1770\n",
      " weighted avg      0.926     0.918     0.911      1770\n",
      "\n",
      "\n",
      "--- Training and Testing Split: 30% Train and 70% Test ---\n",
      "Accuracy: 91.43%\n",
      "               precision    recall  f1-score   support\n",
      "\n",
      "     Business      1.000     0.462     0.632       236\n",
      "Entertainment      0.880     0.976     0.926       664\n",
      "     Politics      0.893     1.000     0.944       694\n",
      "        Sport      0.986     0.928     0.956       471\n",
      "\n",
      "     accuracy                          0.914      2065\n",
      "    macro avg      0.940     0.841     0.864      2065\n",
      " weighted avg      0.923     0.914     0.905      2065\n",
      "\n",
      "\n",
      "--- Training and Testing Split: 20% Train and 80% Test ---\n",
      "Accuracy: 89.66%\n",
      "               precision    recall  f1-score   support\n",
      "\n",
      "     Business      1.000     0.381     0.551       268\n",
      "Entertainment      0.841     0.982     0.906       742\n",
      "     Politics      0.887     0.998     0.939       804\n",
      "        Sport      0.992     0.885     0.935       546\n",
      "\n",
      "     accuracy                          0.897      2360\n",
      "    macro avg      0.930     0.811     0.833      2360\n",
      " weighted avg      0.910     0.897     0.884      2360\n",
      "\n",
      "\n",
      "--- Training and Testing Split: 10% Train and 90% Test ---\n",
      "Accuracy: 81.24%\n",
      "               precision    recall  f1-score   support\n",
      "\n",
      "     Business      1.000     0.148     0.257       305\n",
      "Entertainment      0.662     0.993     0.794       822\n",
      "     Politics      0.919     0.980     0.949       907\n",
      "        Sport      0.993     0.655     0.790       621\n",
      "\n",
      "     accuracy                          0.812      2655\n",
      "    macro avg      0.893     0.694     0.697      2655\n",
      " weighted avg      0.866     0.812     0.784      2655\n",
      "\n"
     ]
    }
   ],
   "source": [
    "for ratio in ratios:\n",
    "    print(f\"\\n--- Training and Testing Split: {int(ratio*100)}% Train and {int((1-ratio)*100)}% Test ---\")\n",
    "    \n",
    "    X_train, X_test, y_train, y_test = train_test_split(X, labels, train_size=ratio, random_state=42)\n",
    "\n",
    "    clf = MultinomialNB()\n",
    "    clf.fit(X_train, y_train)\n",
    "\n",
    "\n",
    "    y_pred = clf.predict(X_test)\n",
    "\n",
    "    accuracy = accuracy_score(y_test, y_pred)\n",
    "    print(f\"Accuracy: {accuracy * 100:.2f}%\")\n",
    "\n",
    "    #print(\"Test Set Category Distribution:\", Counter(y_test))\n",
    "    accuracies.append(accuracy)\n",
    "\n",
    "    report = classification_report(y_test, y_pred, digits=3)\n",
    "    print(report)"
   ]
  },
  {
   "cell_type": "code",
   "execution_count": 144,
   "id": "1e3a3b73",
   "metadata": {},
   "outputs": [],
   "source": [
    "import joblib"
   ]
  },
  {
   "cell_type": "code",
   "execution_count": 142,
   "id": "6ceca727",
   "metadata": {},
   "outputs": [
    {
     "name": "stdout",
     "output_type": "stream",
     "text": [
      "Model Saved\n"
     ]
    }
   ],
   "source": [
    "joblib.dump(clf, 'text.joblib')\n",
    "print(\"Model Saved\")"
   ]
  },
  {
   "cell_type": "code",
   "execution_count": 143,
   "id": "d74042ad",
   "metadata": {},
   "outputs": [
    {
     "data": {
      "image/png": "[encoded data removed]",
      "text/plain": [
       "<Figure size 640x480 with 1 Axes>"
      ]
     },
     "metadata": {},
     "output_type": "display_data"
    }
   ],
   "source": [
    "plt.plot([int(r*100) for r in ratios], accuracies, marker='o')\n",
    "plt.title(\"Accuracy vs Train-Test Split Ratio\")\n",
    "plt.xlabel(\"Training Data Percentage (%)\")\n",
    "plt.ylabel(\"Accuracy\")\n",
    "plt.grid(True)\n",
    "plt.show()"
   ]
  },
  {
   "cell_type": "code",
   "execution_count": null,
   "id": "ddaa708b",
   "metadata": {},
   "outputs": [],
   "source": [
    "# ----------------------------- Training ------------------------------------------------ #"
   ]
  }
 ],
 "metadata": {
  "kernelspec": {
   "display_name": "venv",
   "language": "python",
   "name": "python3"
  },
  "language_info": {
   "codemirror_mode": {
    "name": "ipython",
    "version": 3
   },
   "file_extension": ".py",
   "mimetype": "text/x-python",
   "name": "python",
   "nbconvert_exporter": "python",
   "pygments_lexer": "ipython3",
   "version": "3.13.3"
  }
 },
 "nbformat": 4,
 "nbformat_minor": 5
}
